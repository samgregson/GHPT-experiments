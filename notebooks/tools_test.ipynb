{
 "cells": [
  {
   "cell_type": "code",
   "execution_count": null,
   "metadata": {},
   "outputs": [],
   "source": [
    "import instructor\n",
    "from openai import OpenAI, AsyncOpenAI\n",
    "from langsmith.wrappers import wrap_openai\n",
    "\n",
    "client = OpenAI()\n",
    "\n",
    "# Custom wrap for VSCode, needs to be the first wrap!\n",
    "from patch_openai.patch_openai import patch_openai\n",
    "client = patch_openai(client)\n",
    "\n",
    "# Wrap the OpenAI client with LangSmith\n",
    "client = wrap_openai(client)\n",
    "\n",
    "client = instructor.from_openai(client, mode=instructor.Mode.TOOLS)"
   ]
  },
  {
   "cell_type": "code",
   "execution_count": null,
   "metadata": {},
   "outputs": [],
   "source": [
    "import instructor\n",
    "from pydantic import BaseModel, field_validator\n",
    "\n",
    "class UserDetail(BaseModel):\n",
    "    name: str\n",
    "    age: int\n",
    "\n",
    "    @field_validator(\"name\")\n",
    "    @classmethod\n",
    "    def name_must_be_uppercase(cls, name):\n",
    "        if name.islower():\n",
    "            raise ValueError(\"name must be UPPERCASE. Use the tool again but modify the name argument to 'JASON'.\")\n",
    "        return name\n",
    "\n",
    "response = client.chat.completions.create(\n",
    "    model=\"gpt-4o-mini\",\n",
    "    response_model=UserDetail,\n",
    "    temperature=0.01,\n",
    "    messages=[\n",
    "        {\"role\": \"user\", \"content\": \"Extract `jason is 12`\"},\n",
    "    ],\n",
    "    max_retries=2,\n",
    ")\n",
    "\n",
    "print(response.model_dump_json(indent=2))"
   ]
  }
 ],
 "metadata": {
  "kernelspec": {
   "display_name": ".venv",
   "language": "python",
   "name": "python3"
  },
  "language_info": {
   "codemirror_mode": {
    "name": "ipython",
    "version": 3
   },
   "file_extension": ".py",
   "mimetype": "text/x-python",
   "name": "python",
   "nbconvert_exporter": "python",
   "pygments_lexer": "ipython3",
   "version": "3.12.3"
  }
 },
 "nbformat": 4,
 "nbformat_minor": 2
}
